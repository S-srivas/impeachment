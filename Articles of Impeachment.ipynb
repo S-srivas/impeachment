{
 "cells": [
  {
   "cell_type": "code",
   "execution_count": 1,
   "metadata": {},
   "outputs": [
    {
     "name": "stdout",
     "output_type": "stream",
     "text": [
      "[nltk_data] Downloading package punkt to\n",
      "[nltk_data]     C:\\Users\\Saina\\AppData\\Roaming\\nltk_data...\n",
      "[nltk_data]   Package punkt is already up-to-date!\n",
      "[nltk_data] Downloading package stopwords to\n",
      "[nltk_data]     C:\\Users\\Saina\\AppData\\Roaming\\nltk_data...\n",
      "[nltk_data]   Package stopwords is already up-to-date!\n",
      "Resolved, That Donald J. John Trump, President of the United States, is impeached for high crimes and misdemeanors and that the following articles of impeachment be exhibited to the United States Senate:\n",
      "Articles of impeachment exhibited by the House of Representatives of the United States of America in the name of itself and of the people of the United States of America, against Donald J. John Trump, President of the United States of America, in maintenance and support of its impeachment against him for high crimes and misdemeanors.\n",
      "\n",
      "ARTICLE I: ABUSE OF POWER\n",
      "\n",
      "The Constitution provides that the House of Representatives “shall have the sole Power of Impeachment” and that the President “shall be removed from Office on Impeachment for, and Conviction of, Treason, Bribery, or other high Crimes and Misdemeanors”. In his conduct of the office of President of the United States — and in violation of his constitutional oath faithfully to execute the office of President of the United States and, to the best of his ability, preserve, protect, and defend the Constitution of the United States, and in violation of his constitutional duty to take care that the laws be faithfully executed — Donald J. Trump has abused the powers of the Presidency, in that:\n",
      "\n",
      "Using the powers of his high office, President Trump solicited the interference of a foreign government, Ukraine, in the 2020 United States Presidential election. He did so through a scheme or course of conduct that included soliciting the Government of Ukraine to publicly announce investigations that would benefit his reelection, harm the election prospects of a political opponent, and influence the 2020 United States Presidential election to his advantage. President Trump also sought to pressure the Government of Ukraine to take these steps by conditioning official United States Government acts of significant value to Ukraine on its public announcement of the investigations. President Trump engaged in this scheme or course of conduct for corrupt purposes in pursuit of personal political benefit. In so doing, President Trump used the powers of the Presidency in a manner that compromised the national security of the United States and undermined the integrity of the United States democratic process. He thus ignored and injured the interests of the Nation.\n",
      "\n",
      "President Trump engaged in this scheme or course of conduct through the following means:\n",
      "\n",
      "(1) President Trump — acting both directly and through his agents within and outside the United States Government — corruptly solicited the Government of Ukraine to publicly announce investigations into —\n",
      "\n",
      "(A) a political opponent, former Vice President Joseph R. Biden, Jr.; and\n",
      "\n",
      "(B) a discredited theory promoted by Russia alleging that Ukraine — rather than Russia — interfered in the 2016 United States Presidential election.\n",
      "\n",
      "(2) With the same corrupt motives, President Trump — acting both directly and through his agents within and outside the United States Government — conditioned two official acts on the public announcements that he had requested —\n",
      "\n",
      "(A) the release of $391 million of United States taxpayer funds that Congress had appropriated on a bipartisan basis for the purpose of providing vital military and security assistance to Ukraine to oppose Russian aggression and which President Trump had ordered suspended; and\n",
      "\n",
      "(B) a head of state meeting at the White House, which the President of Ukraine sought to demonstrate continued United States support for the Government of Ukraine in the face of Russian aggression.\n",
      "\n",
      "(3) Faced with the public revelation of his actions, President Trump ultimately released the military and security assistance to the Government of Ukraine, but has persisted in openly and corruptly urging and soliciting Ukraine to undertake investigations for his personal political benefit. \n",
      "\n",
      "These actions were consistent with President Trump’s previous invitations of foreign interference in United States elections.\n",
      "In all of this, President Trump abused the powers of the Presidency by ignoring and injuring national security and other vital national interests to obtain an improper personal political benefit. He has also betrayed the Nation by abusing his high office to enlist a foreign power in corrupting democratic elections.\n",
      "\n",
      "Wherefore President Trump, by such conduct, has demonstrated that he will remain a threat to national security and the Constitution if allowed to remain in office, and has acted in a manner grossly incompatible with self-governance and the rule of law. President Trump thus warrants impeachment and trial, removal from office, and disqualification to hold and enjoy any office of honor, trust, or profit under the United States.\n",
      "\n",
      "ARTICLE II: OBSTRUCTION OF CONGRESS\n",
      "\n",
      "The Constitution provides that the House of Representatives “shall have the sole Power of Impeachment” and that the President “shall be removed from Office on Impeachment for, and Conviction of, Treason, Bribery, or other high Crimes and Misdemeanors”. In his conduct of the office of President of the United States — and in violation of his constitutional oath faithfully to execute the office of President of the United States and, to the best of his ability, preserve, protect, and defend the Constitution of the United States, and in violation of his constitutional duty to take care that the laws be faithfully executed —\n",
      "Donald J. Trump has directed the unprecedented, categorical, and indiscriminate defiance of subpoenas issued by the House of Representatives pursuant to its “sole Power of Impeachment”. President Trump has abused the powers of the Presidency in a manner offensive to, and subversive of, the Constitution, in that:\n",
      "\n",
      "The House of Representatives has engaged in an impeachment inquiry focused on President Trump’s corrupt solicitation of the Government of Ukraine to interfere in the 2020 United States Presidential election. As part of this impeachment inquiry, the Committees undertaking the investigation served subpoenas seeking documents and testimony deemed vital to the inquiry from various Executive Branch agencies and offices, and current and former officials.\n",
      "\n",
      "In response, without lawful cause or excuse, President Trump directed Executive Branch agencies, offices, and officials not to comply with those subpoenas. President Trump thus interposed the powers of the Presidency against the lawful subpoenas of the House of Representatives, and assumed to himself functions and judgments necessary to the exercise of the “sole Power of Impeachment” vested by the Constitution in the House of Representatives.\n",
      "President Trump abused the powers of his high office through the following means: \n",
      "\n",
      "(1) Directing the White House to defy a lawful subpoena by withholding the production of documents sought therein by the Committees.\n",
      "\n",
      "(2) Directing other Executive Branch agencies and offices to defy lawful subpoenas and withhold the production of documents and records from the Committees — in response to which the Department of State, Office of Management and Budget, Department of Energy, and Department of Defense refused to produce a single document or record.\n",
      "\n",
      "(3) Directing current and former Executive Branch officials not to cooperate with the Committees — in response to which nine Administration officials defied subpoenas for testimony, namely John Michael “Mick” Mulvaney, Robert B. Blair, John A. Eisenberg, Michael Ellis, Preston Wells Griffith, Russell T. Vought, Michael Duffey, Brian McCormack, and T. Ulrich Brechbuhl.\n",
      "\n",
      "These actions were consistent with President Trump’s previous efforts to undermine United States Government investigations into foreign interference in United States elections.\n",
      "Through these actions, President Trump sought to arrogate to himself the right to determine the propriety, scope, and nature of an impeachment inquiry into his own conduct, as well as the unilateral prerogative to deny any and all information to the House of Representatives in the exercise of its “sole Power of Impeachment”. In the history of the Republic, no President has ever ordered the complete defiance of an impeachment inquiry or sought to obstruct and impede so comprehensively the ability of the House of Representatives to investigate “high Crimes and Misdemeanors”. This abuse of office served to cover up the President’s own repeated misconduct and to seize and control the power of impeachment — and thus to nullify a vital constitutional safeguard vested solely in the House of Representatives.\n",
      "\n",
      "In all of this, President Trump has acted in a manner contrary to his trust as President and subversive of constitutional government, to the great prejudice of the cause of law and justice, and to the manifest injury of the people of the United States. \n",
      "\n",
      "Wherefore, President Trump, by such conduct, has demonstrated that he will remain a threat to the Constitution if allowed to remain in office, and has acted in a manner grossly incompatible with self-governance and the rule of law. President Trump thus warrants impeachment and trial, removal from office, and disqualification to hold and enjoy any office of honor, trust, or profit under the United States.\n"
     ]
    }
   ],
   "source": [
    "import nltk\n",
    "nltk.download(\"punkt\")\n",
    "nltk.download(\"stopwords\")\n",
    "\n",
    "file1 = open('Articles of Impeachment.txt', encoding=\"utf8\")\n",
    "input_together = file1.read()\n",
    "print(input_together)"
   ]
  },
  {
   "cell_type": "code",
   "execution_count": 2,
   "metadata": {
    "scrolled": true
   },
   "outputs": [
    {
     "name": "stdout",
     "output_type": "stream",
     "text": [
      "Resolved That Donald J John Trump President of the United States is impeached for high crimes and misdemeanors and that the following articles of impeachment be exhibited to the United States Senate\n",
      "Articles of impeachment exhibited by the House of Representatives of the United States of America in the name of itself and of the people of the United States of America against Donald J John Trump President of the United States of America in maintenance and support of its impeachment against him for high crimes and misdemeanors\n",
      "\n",
      "ARTICLE I ABUSE OF POWER\n",
      "\n",
      "The Constitution provides that the House of Representatives “shall have the sole Power of Impeachment” and that the President “shall be removed from Office on Impeachment for and Conviction of Treason Bribery or other high Crimes and Misdemeanors” In his conduct of the office of President of the United States — and in violation of his constitutional oath faithfully to execute the office of President of the United States and to the best of his ability preserve protect and defend the Constitution of the United States and in violation of his constitutional duty to take care that the laws be faithfully executed — Donald J Trump has abused the powers of the Presidency in that\n",
      "\n",
      "Using the powers of his high office President Trump solicited the interference of a foreign government Ukraine in the 2020 United States Presidential election He did so through a scheme or course of conduct that included soliciting the Government of Ukraine to publicly announce investigations that would benefit his reelection harm the election prospects of a political opponent and influence the 2020 United States Presidential election to his advantage President Trump also sought to pressure the Government of Ukraine to take these steps by conditioning official United States Government acts of significant value to Ukraine on its public announcement of the investigations President Trump engaged in this scheme or course of conduct for corrupt purposes in pursuit of personal political benefit In so doing President Trump used the powers of the Presidency in a manner that compromised the national security of the United States and undermined the integrity of the United States democratic process He thus ignored and injured the interests of the Nation\n",
      "\n",
      "President Trump engaged in this scheme or course of conduct through the following means\n",
      "\n",
      "1 President Trump — acting both directly and through his agents within and outside the United States Government — corruptly solicited the Government of Ukraine to publicly announce investigations into —\n",
      "\n",
      "A a political opponent former Vice President Joseph R Biden Jr and\n",
      "\n",
      "B a discredited theory promoted by Russia alleging that Ukraine — rather than Russia — interfered in the 2016 United States Presidential election\n",
      "\n",
      "2 With the same corrupt motives President Trump — acting both directly and through his agents within and outside the United States Government — conditioned two official acts on the public announcements that he had requested —\n",
      "\n",
      "A the release of 391 million of United States taxpayer funds that Congress had appropriated on a bipartisan basis for the purpose of providing vital military and security assistance to Ukraine to oppose Russian aggression and which President Trump had ordered suspended and\n",
      "\n",
      "B a head of state meeting at the White House which the President of Ukraine sought to demonstrate continued United States support for the Government of Ukraine in the face of Russian aggression\n",
      "\n",
      "3 Faced with the public revelation of his actions President Trump ultimately released the military and security assistance to the Government of Ukraine but has persisted in openly and corruptly urging and soliciting Ukraine to undertake investigations for his personal political benefit \n",
      "\n",
      "These actions were consistent with President Trump’s previous invitations of foreign interference in United States elections\n",
      "In all of this President Trump abused the powers of the Presidency by ignoring and injuring national security and other vital national interests to obtain an improper personal political benefit He has also betrayed the Nation by abusing his high office to enlist a foreign power in corrupting democratic elections\n",
      "\n",
      "Wherefore President Trump by such conduct has demonstrated that he will remain a threat to national security and the Constitution if allowed to remain in office and has acted in a manner grossly incompatible with selfgovernance and the rule of law President Trump thus warrants impeachment and trial removal from office and disqualification to hold and enjoy any office of honor trust or profit under the United States\n",
      "\n",
      "ARTICLE II OBSTRUCTION OF CONGRESS\n",
      "\n",
      "The Constitution provides that the House of Representatives “shall have the sole Power of Impeachment” and that the President “shall be removed from Office on Impeachment for and Conviction of Treason Bribery or other high Crimes and Misdemeanors” In his conduct of the office of President of the United States — and in violation of his constitutional oath faithfully to execute the office of President of the United States and to the best of his ability preserve protect and defend the Constitution of the United States and in violation of his constitutional duty to take care that the laws be faithfully executed —\n",
      "Donald J Trump has directed the unprecedented categorical and indiscriminate defiance of subpoenas issued by the House of Representatives pursuant to its “sole Power of Impeachment” President Trump has abused the powers of the Presidency in a manner offensive to and subversive of the Constitution in that\n",
      "\n",
      "The House of Representatives has engaged in an impeachment inquiry focused on President Trump’s corrupt solicitation of the Government of Ukraine to interfere in the 2020 United States Presidential election As part of this impeachment inquiry the Committees undertaking the investigation served subpoenas seeking documents and testimony deemed vital to the inquiry from various Executive Branch agencies and offices and current and former officials\n",
      "\n",
      "In response without lawful cause or excuse President Trump directed Executive Branch agencies offices and officials not to comply with those subpoenas President Trump thus interposed the powers of the Presidency against the lawful subpoenas of the House of Representatives and assumed to himself functions and judgments necessary to the exercise of the “sole Power of Impeachment” vested by the Constitution in the House of Representatives\n",
      "President Trump abused the powers of his high office through the following means \n",
      "\n",
      "1 Directing the White House to defy a lawful subpoena by withholding the production of documents sought therein by the Committees\n",
      "\n",
      "2 Directing other Executive Branch agencies and offices to defy lawful subpoenas and withhold the production of documents and records from the Committees — in response to which the Department of State Office of Management and Budget Department of Energy and Department of Defense refused to produce a single document or record\n",
      "\n",
      "3 Directing current and former Executive Branch officials not to cooperate with the Committees — in response to which nine Administration officials defied subpoenas for testimony namely John Michael “Mick” Mulvaney Robert B Blair John A Eisenberg Michael Ellis Preston Wells Griffith Russell T Vought Michael Duffey Brian McCormack and T Ulrich Brechbuhl\n",
      "\n",
      "These actions were consistent with President Trump’s previous efforts to undermine United States Government investigations into foreign interference in United States elections\n",
      "Through these actions President Trump sought to arrogate to himself the right to determine the propriety scope and nature of an impeachment inquiry into his own conduct as well as the unilateral prerogative to deny any and all information to the House of Representatives in the exercise of its “sole Power of Impeachment” In the history of the Republic no President has ever ordered the complete defiance of an impeachment inquiry or sought to obstruct and impede so comprehensively the ability of the House of Representatives to investigate “high Crimes and Misdemeanors” This abuse of office served to cover up the President’s own repeated misconduct and to seize and control the power of impeachment — and thus to nullify a vital constitutional safeguard vested solely in the House of Representatives\n",
      "\n",
      "In all of this President Trump has acted in a manner contrary to his trust as President and subversive of constitutional government to the great prejudice of the cause of law and justice and to the manifest injury of the people of the United States \n",
      "\n",
      "Wherefore President Trump by such conduct has demonstrated that he will remain a threat to the Constitution if allowed to remain in office and has acted in a manner grossly incompatible with selfgovernance and the rule of law President Trump thus warrants impeachment and trial removal from office and disqualification to hold and enjoy any office of honor trust or profit under the United States\n"
     ]
    }
   ],
   "source": [
    "def Punctuation(string): \n",
    "    punctuations = '''!()-[]{};:'\"\\,<>./?@#$%^&*_~'''\n",
    "  \n",
    "    for x in string.lower(): \n",
    "        if x in punctuations: \n",
    "            string = string.replace(x, \"\") \n",
    "  \n",
    "    # Print string without punctuation \n",
    "    print(string)\n",
    "    \n",
    "all_input = input_together\n",
    "Punctuation(all_input)"
   ]
  },
  {
   "cell_type": "code",
   "execution_count": 3,
   "metadata": {
    "scrolled": true
   },
   "outputs": [
    {
     "name": "stdout",
     "output_type": "stream",
     "text": [
      "[nltk_data] Downloading package punkt to\n",
      "[nltk_data]     C:\\Users\\Saina\\AppData\\Roaming\\nltk_data...\n",
      "[nltk_data]   Package punkt is already up-to-date!\n",
      "[nltk_data] Downloading package stopwords to\n",
      "[nltk_data]     C:\\Users\\Saina\\AppData\\Roaming\\nltk_data...\n",
      "[nltk_data]   Package stopwords is already up-to-date!\n",
      "['Resolved', ',', 'That', 'Donald', 'J.', 'John', 'Trump', ',', 'President', 'of', 'the', 'United', 'States', ',', 'is', 'impeached', 'for', 'high', 'crimes', 'and', 'misdemeanors', 'and', 'that', 'the', 'following', 'articles', 'of', 'impeachment', 'be', 'exhibited', 'to', 'the', 'United', 'States', 'Senate', ':', 'Articles', 'of', 'impeachment', 'exhibited', 'by', 'the', 'House', 'of', 'Representatives', 'of', 'the', 'United', 'States', 'of', 'America', 'in', 'the', 'name', 'of', 'itself', 'and', 'of', 'the', 'people', 'of', 'the', 'United', 'States', 'of', 'America', ',', 'against', 'Donald', 'J.', 'John', 'Trump', ',', 'President', 'of', 'the', 'United', 'States', 'of', 'America', ',', 'in', 'maintenance', 'and', 'support', 'of', 'its', 'impeachment', 'against', 'him', 'for', 'high', 'crimes', 'and', 'misdemeanors', '.', 'ARTICLE', 'I', ':', 'ABUSE', 'OF', 'POWER', 'The', 'Constitution', 'provides', 'that', 'the', 'House', 'of', 'Representatives', '“', 'shall', 'have', 'the', 'sole', 'Power', 'of', 'Impeachment', '”', 'and', 'that', 'the', 'President', '“', 'shall', 'be', 'removed', 'from', 'Office', 'on', 'Impeachment', 'for', ',', 'and', 'Conviction', 'of', ',', 'Treason', ',', 'Bribery', ',', 'or', 'other', 'high', 'Crimes', 'and', 'Misdemeanors', '”', '.', 'In', 'his', 'conduct', 'of', 'the', 'office', 'of', 'President', 'of', 'the', 'United', 'States', '—', 'and', 'in', 'violation', 'of', 'his', 'constitutional', 'oath', 'faithfully', 'to', 'execute', 'the', 'office', 'of', 'President', 'of', 'the', 'United', 'States', 'and', ',', 'to', 'the', 'best', 'of', 'his', 'ability', ',', 'preserve', ',', 'protect', ',', 'and', 'defend', 'the', 'Constitution', 'of', 'the', 'United', 'States', ',', 'and', 'in', 'violation', 'of', 'his', 'constitutional', 'duty', 'to', 'take', 'care', 'that', 'the', 'laws', 'be', 'faithfully', 'executed', '—', 'Donald', 'J.', 'Trump', 'has', 'abused', 'the', 'powers', 'of', 'the', 'Presidency', ',', 'in', 'that', ':', 'Using', 'the', 'powers', 'of', 'his', 'high', 'office', ',', 'President', 'Trump', 'solicited', 'the', 'interference', 'of', 'a', 'foreign', 'government', ',', 'Ukraine', ',', 'in', 'the', '2020', 'United', 'States', 'Presidential', 'election', '.', 'He', 'did', 'so', 'through', 'a', 'scheme', 'or', 'course', 'of', 'conduct', 'that', 'included', 'soliciting', 'the', 'Government', 'of', 'Ukraine', 'to', 'publicly', 'announce', 'investigations', 'that', 'would', 'benefit', 'his', 'reelection', ',', 'harm', 'the', 'election', 'prospects', 'of', 'a', 'political', 'opponent', ',', 'and', 'influence', 'the', '2020', 'United', 'States', 'Presidential', 'election', 'to', 'his', 'advantage', '.', 'President', 'Trump', 'also', 'sought', 'to', 'pressure', 'the', 'Government', 'of', 'Ukraine', 'to', 'take', 'these', 'steps', 'by', 'conditioning', 'official', 'United', 'States', 'Government', 'acts', 'of', 'significant', 'value', 'to', 'Ukraine', 'on', 'its', 'public', 'announcement', 'of', 'the', 'investigations', '.', 'President', 'Trump', 'engaged', 'in', 'this', 'scheme', 'or', 'course', 'of', 'conduct', 'for', 'corrupt', 'purposes', 'in', 'pursuit', 'of', 'personal', 'political', 'benefit', '.', 'In', 'so', 'doing', ',', 'President', 'Trump', 'used', 'the', 'powers', 'of', 'the', 'Presidency', 'in', 'a', 'manner', 'that', 'compromised', 'the', 'national', 'security', 'of', 'the', 'United', 'States', 'and', 'undermined', 'the', 'integrity', 'of', 'the', 'United', 'States', 'democratic', 'process', '.', 'He', 'thus', 'ignored', 'and', 'injured', 'the', 'interests', 'of', 'the', 'Nation', '.', 'President', 'Trump', 'engaged', 'in', 'this', 'scheme', 'or', 'course', 'of', 'conduct', 'through', 'the', 'following', 'means', ':', '(', '1', ')', 'President', 'Trump', '—', 'acting', 'both', 'directly', 'and', 'through', 'his', 'agents', 'within', 'and', 'outside', 'the', 'United', 'States', 'Government', '—', 'corruptly', 'solicited', 'the', 'Government', 'of', 'Ukraine', 'to', 'publicly', 'announce', 'investigations', 'into', '—', '(', 'A', ')', 'a', 'political', 'opponent', ',', 'former', 'Vice', 'President', 'Joseph', 'R.', 'Biden', ',', 'Jr.', ';', 'and', '(', 'B', ')', 'a', 'discredited', 'theory', 'promoted', 'by', 'Russia', 'alleging', 'that', 'Ukraine', '—', 'rather', 'than', 'Russia', '—', 'interfered', 'in', 'the', '2016', 'United', 'States', 'Presidential', 'election', '.', '(', '2', ')', 'With', 'the', 'same', 'corrupt', 'motives', ',', 'President', 'Trump', '—', 'acting', 'both', 'directly', 'and', 'through', 'his', 'agents', 'within', 'and', 'outside', 'the', 'United', 'States', 'Government', '—', 'conditioned', 'two', 'official', 'acts', 'on', 'the', 'public', 'announcements', 'that', 'he', 'had', 'requested', '—', '(', 'A', ')', 'the', 'release', 'of', '$', '391', 'million', 'of', 'United', 'States', 'taxpayer', 'funds', 'that', 'Congress', 'had', 'appropriated', 'on', 'a', 'bipartisan', 'basis', 'for', 'the', 'purpose', 'of', 'providing', 'vital', 'military', 'and', 'security', 'assistance', 'to', 'Ukraine', 'to', 'oppose', 'Russian', 'aggression', 'and', 'which', 'President', 'Trump', 'had', 'ordered', 'suspended', ';', 'and', '(', 'B', ')', 'a', 'head', 'of', 'state', 'meeting', 'at', 'the', 'White', 'House', ',', 'which', 'the', 'President', 'of', 'Ukraine', 'sought', 'to', 'demonstrate', 'continued', 'United', 'States', 'support', 'for', 'the', 'Government', 'of', 'Ukraine', 'in', 'the', 'face', 'of', 'Russian', 'aggression', '.', '(', '3', ')', 'Faced', 'with', 'the', 'public', 'revelation', 'of', 'his', 'actions', ',', 'President', 'Trump', 'ultimately', 'released', 'the', 'military', 'and', 'security', 'assistance', 'to', 'the', 'Government', 'of', 'Ukraine', ',', 'but', 'has', 'persisted', 'in', 'openly', 'and', 'corruptly', 'urging', 'and', 'soliciting', 'Ukraine', 'to', 'undertake', 'investigations', 'for', 'his', 'personal', 'political', 'benefit', '.', 'These', 'actions', 'were', 'consistent', 'with', 'President', 'Trump', '’', 's', 'previous', 'invitations', 'of', 'foreign', 'interference', 'in', 'United', 'States', 'elections', '.', 'In', 'all', 'of', 'this', ',', 'President', 'Trump', 'abused', 'the', 'powers', 'of', 'the', 'Presidency', 'by', 'ignoring', 'and', 'injuring', 'national', 'security', 'and', 'other', 'vital', 'national', 'interests', 'to', 'obtain', 'an', 'improper', 'personal', 'political', 'benefit', '.', 'He', 'has', 'also', 'betrayed', 'the', 'Nation', 'by', 'abusing', 'his', 'high', 'office', 'to', 'enlist', 'a', 'foreign', 'power', 'in', 'corrupting', 'democratic', 'elections', '.', 'Wherefore', 'President', 'Trump', ',', 'by', 'such', 'conduct', ',', 'has', 'demonstrated', 'that', 'he', 'will', 'remain', 'a', 'threat', 'to', 'national', 'security', 'and', 'the', 'Constitution', 'if', 'allowed', 'to', 'remain', 'in', 'office', ',', 'and', 'has', 'acted', 'in', 'a', 'manner', 'grossly', 'incompatible', 'with', 'self-governance', 'and', 'the', 'rule', 'of', 'law', '.', 'President', 'Trump', 'thus', 'warrants', 'impeachment', 'and', 'trial', ',', 'removal', 'from', 'office', ',', 'and', 'disqualification', 'to', 'hold', 'and', 'enjoy', 'any', 'office', 'of', 'honor', ',', 'trust', ',', 'or', 'profit', 'under', 'the', 'United', 'States', '.', 'ARTICLE', 'II', ':', 'OBSTRUCTION', 'OF', 'CONGRESS', 'The', 'Constitution', 'provides', 'that', 'the', 'House', 'of', 'Representatives', '“', 'shall', 'have', 'the', 'sole', 'Power', 'of', 'Impeachment', '”', 'and', 'that', 'the', 'President', '“', 'shall', 'be', 'removed', 'from', 'Office', 'on', 'Impeachment', 'for', ',', 'and', 'Conviction', 'of', ',', 'Treason', ',', 'Bribery', ',', 'or', 'other', 'high', 'Crimes', 'and', 'Misdemeanors', '”', '.', 'In', 'his', 'conduct', 'of', 'the', 'office', 'of', 'President', 'of', 'the', 'United', 'States', '—', 'and', 'in', 'violation', 'of', 'his', 'constitutional', 'oath', 'faithfully', 'to', 'execute', 'the', 'office', 'of', 'President', 'of', 'the', 'United', 'States', 'and', ',', 'to', 'the', 'best', 'of', 'his', 'ability', ',', 'preserve', ',', 'protect', ',', 'and', 'defend', 'the', 'Constitution', 'of', 'the', 'United', 'States', ',', 'and', 'in', 'violation', 'of', 'his', 'constitutional', 'duty', 'to', 'take', 'care', 'that', 'the', 'laws', 'be', 'faithfully', 'executed', '—', 'Donald', 'J.', 'Trump', 'has', 'directed', 'the', 'unprecedented', ',', 'categorical', ',', 'and', 'indiscriminate', 'defiance', 'of', 'subpoenas', 'issued', 'by', 'the', 'House', 'of', 'Representatives', 'pursuant', 'to', 'its', '“', 'sole', 'Power', 'of', 'Impeachment', '”', '.', 'President', 'Trump', 'has', 'abused', 'the', 'powers', 'of', 'the', 'Presidency', 'in', 'a', 'manner', 'offensive', 'to', ',', 'and', 'subversive', 'of', ',', 'the', 'Constitution', ',', 'in', 'that', ':', 'The', 'House', 'of', 'Representatives', 'has', 'engaged', 'in', 'an', 'impeachment', 'inquiry', 'focused', 'on', 'President', 'Trump', '’', 's', 'corrupt', 'solicitation', 'of', 'the', 'Government', 'of', 'Ukraine', 'to', 'interfere', 'in', 'the', '2020', 'United', 'States', 'Presidential', 'election', '.', 'As', 'part', 'of', 'this', 'impeachment', 'inquiry', ',', 'the', 'Committees', 'undertaking', 'the', 'investigation', 'served', 'subpoenas', 'seeking', 'documents', 'and', 'testimony', 'deemed', 'vital', 'to', 'the', 'inquiry', 'from', 'various', 'Executive', 'Branch', 'agencies', 'and', 'offices', ',', 'and', 'current', 'and', 'former', 'officials', '.', 'In', 'response', ',', 'without', 'lawful', 'cause', 'or', 'excuse', ',', 'President', 'Trump', 'directed', 'Executive', 'Branch', 'agencies', ',', 'offices', ',', 'and', 'officials', 'not', 'to', 'comply', 'with', 'those', 'subpoenas', '.', 'President', 'Trump', 'thus', 'interposed', 'the', 'powers', 'of', 'the', 'Presidency', 'against', 'the', 'lawful', 'subpoenas', 'of', 'the', 'House', 'of', 'Representatives', ',', 'and', 'assumed', 'to', 'himself', 'functions', 'and', 'judgments', 'necessary', 'to', 'the', 'exercise', 'of', 'the', '“', 'sole', 'Power', 'of', 'Impeachment', '”', 'vested', 'by', 'the', 'Constitution', 'in', 'the', 'House', 'of', 'Representatives', '.', 'President', 'Trump', 'abused', 'the', 'powers', 'of', 'his', 'high', 'office', 'through', 'the', 'following', 'means', ':', '(', '1', ')', 'Directing', 'the', 'White', 'House', 'to', 'defy', 'a', 'lawful', 'subpoena', 'by', 'withholding', 'the', 'production', 'of', 'documents', 'sought', 'therein', 'by', 'the', 'Committees', '.', '(', '2', ')', 'Directing', 'other', 'Executive', 'Branch', 'agencies', 'and', 'offices', 'to', 'defy', 'lawful', 'subpoenas', 'and', 'withhold', 'the', 'production', 'of', 'documents', 'and', 'records', 'from', 'the', 'Committees', '—', 'in', 'response', 'to', 'which', 'the', 'Department', 'of', 'State', ',', 'Office', 'of', 'Management', 'and', 'Budget', ',', 'Department', 'of', 'Energy', ',', 'and', 'Department', 'of', 'Defense', 'refused', 'to', 'produce', 'a', 'single', 'document', 'or', 'record', '.', '(', '3', ')', 'Directing', 'current', 'and', 'former', 'Executive', 'Branch', 'officials', 'not', 'to', 'cooperate', 'with', 'the', 'Committees', '—', 'in', 'response', 'to', 'which', 'nine', 'Administration', 'officials', 'defied', 'subpoenas', 'for', 'testimony', ',', 'namely', 'John', 'Michael', '“', 'Mick', '”', 'Mulvaney', ',', 'Robert', 'B.', 'Blair', ',', 'John', 'A.', 'Eisenberg', ',', 'Michael', 'Ellis', ',', 'Preston', 'Wells', 'Griffith', ',', 'Russell', 'T.', 'Vought', ',', 'Michael', 'Duffey', ',', 'Brian', 'McCormack', ',', 'and', 'T.', 'Ulrich', 'Brechbuhl', '.', 'These', 'actions', 'were', 'consistent', 'with', 'President', 'Trump', '’', 's', 'previous', 'efforts', 'to', 'undermine', 'United', 'States', 'Government', 'investigations', 'into', 'foreign', 'interference', 'in', 'United', 'States', 'elections', '.', 'Through', 'these', 'actions', ',', 'President', 'Trump', 'sought', 'to', 'arrogate', 'to', 'himself', 'the', 'right', 'to', 'determine', 'the', 'propriety', ',', 'scope', ',', 'and', 'nature', 'of', 'an', 'impeachment', 'inquiry', 'into', 'his', 'own', 'conduct', ',', 'as', 'well', 'as', 'the', 'unilateral', 'prerogative', 'to', 'deny', 'any', 'and', 'all', 'information', 'to', 'the', 'House', 'of', 'Representatives', 'in', 'the', 'exercise', 'of', 'its', '“', 'sole', 'Power', 'of', 'Impeachment', '”', '.', 'In', 'the', 'history', 'of', 'the', 'Republic', ',', 'no', 'President', 'has', 'ever', 'ordered', 'the', 'complete', 'defiance', 'of', 'an', 'impeachment', 'inquiry', 'or', 'sought', 'to', 'obstruct', 'and', 'impede', 'so', 'comprehensively', 'the', 'ability', 'of', 'the', 'House', 'of', 'Representatives', 'to', 'investigate', '“', 'high', 'Crimes', 'and', 'Misdemeanors', '”', '.', 'This', 'abuse', 'of', 'office', 'served', 'to', 'cover', 'up', 'the', 'President', '’', 's', 'own', 'repeated', 'misconduct', 'and', 'to', 'seize', 'and', 'control', 'the', 'power', 'of', 'impeachment', '—', 'and', 'thus', 'to', 'nullify', 'a', 'vital', 'constitutional', 'safeguard', 'vested', 'solely', 'in', 'the', 'House', 'of', 'Representatives', '.', 'In', 'all', 'of', 'this', ',', 'President', 'Trump', 'has', 'acted', 'in', 'a', 'manner', 'contrary', 'to', 'his', 'trust', 'as', 'President', 'and', 'subversive', 'of', 'constitutional', 'government', ',', 'to', 'the', 'great', 'prejudice', 'of', 'the', 'cause', 'of', 'law', 'and', 'justice', ',', 'and', 'to', 'the', 'manifest', 'injury', 'of', 'the', 'people', 'of', 'the', 'United', 'States', '.', 'Wherefore', ',', 'President', 'Trump', ',', 'by', 'such', 'conduct', ',', 'has', 'demonstrated', 'that', 'he', 'will', 'remain', 'a', 'threat', 'to', 'the', 'Constitution', 'if', 'allowed', 'to', 'remain', 'in', 'office', ',', 'and', 'has', 'acted', 'in', 'a', 'manner', 'grossly', 'incompatible', 'with', 'self-governance', 'and', 'the', 'rule', 'of', 'law', '.', 'President', 'Trump', 'thus', 'warrants', 'impeachment', 'and', 'trial', ',', 'removal', 'from', 'office', ',', 'and', 'disqualification', 'to', 'hold', 'and', 'enjoy', 'any', 'office', 'of', 'honor', ',', 'trust', ',', 'or', 'profit', 'under', 'the', 'United', 'States', '.']\n",
      "['Resolved', ',', 'That', 'Donald', 'J.', 'John', 'Trump', ',', 'President', 'United', 'States', ',', 'impeached', 'high', 'crimes', 'misdemeanors', 'following', 'articles', 'impeachment', 'exhibited', 'United', 'States', 'Senate', ':', 'Articles', 'impeachment', 'exhibited', 'House', 'Representatives', 'United', 'States', 'America', 'name', 'people', 'United', 'States', 'America', ',', 'Donald', 'J.', 'John', 'Trump', ',', 'President', 'United', 'States', 'America', ',', 'maintenance', 'support', 'impeachment', 'high', 'crimes', 'misdemeanors', '.', 'ARTICLE', 'I', ':', 'ABUSE', 'OF', 'POWER', 'The', 'Constitution', 'provides', 'House', 'Representatives', '“', 'shall', 'sole', 'Power', 'Impeachment', '”', 'President', '“', 'shall', 'removed', 'Office', 'Impeachment', ',', 'Conviction', ',', 'Treason', ',', 'Bribery', ',', 'high', 'Crimes', 'Misdemeanors', '”', '.', 'In', 'conduct', 'office', 'President', 'United', 'States', '—', 'violation', 'constitutional', 'oath', 'faithfully', 'execute', 'office', 'President', 'United', 'States', ',', 'best', 'ability', ',', 'preserve', ',', 'protect', ',', 'defend', 'Constitution', 'United', 'States', ',', 'violation', 'constitutional', 'duty', 'take', 'care', 'laws', 'faithfully', 'executed', '—', 'Donald', 'J.', 'Trump', 'abused', 'powers', 'Presidency', ',', ':', 'Using', 'powers', 'high', 'office', ',', 'President', 'Trump', 'solicited', 'interference', 'foreign', 'government', ',', 'Ukraine', ',', '2020', 'United', 'States', 'Presidential', 'election', '.', 'He', 'scheme', 'course', 'conduct', 'included', 'soliciting', 'Government', 'Ukraine', 'publicly', 'announce', 'investigations', 'would', 'benefit', 'reelection', ',', 'harm', 'election', 'prospects', 'political', 'opponent', ',', 'influence', '2020', 'United', 'States', 'Presidential', 'election', 'advantage', '.', 'President', 'Trump', 'also', 'sought', 'pressure', 'Government', 'Ukraine', 'take', 'steps', 'conditioning', 'official', 'United', 'States', 'Government', 'acts', 'significant', 'value', 'Ukraine', 'public', 'announcement', 'investigations', '.', 'President', 'Trump', 'engaged', 'scheme', 'course', 'conduct', 'corrupt', 'purposes', 'pursuit', 'personal', 'political', 'benefit', '.', 'In', ',', 'President', 'Trump', 'used', 'powers', 'Presidency', 'manner', 'compromised', 'national', 'security', 'United', 'States', 'undermined', 'integrity', 'United', 'States', 'democratic', 'process', '.', 'He', 'thus', 'ignored', 'injured', 'interests', 'Nation', '.', 'President', 'Trump', 'engaged', 'scheme', 'course', 'conduct', 'following', 'means', ':', '(', '1', ')', 'President', 'Trump', '—', 'acting', 'directly', 'agents', 'within', 'outside', 'United', 'States', 'Government', '—', 'corruptly', 'solicited', 'Government', 'Ukraine', 'publicly', 'announce', 'investigations', '—', '(', 'A', ')', 'political', 'opponent', ',', 'former', 'Vice', 'President', 'Joseph', 'R.', 'Biden', ',', 'Jr.', ';', '(', 'B', ')', 'discredited', 'theory', 'promoted', 'Russia', 'alleging', 'Ukraine', '—', 'rather', 'Russia', '—', 'interfered', '2016', 'United', 'States', 'Presidential', 'election', '.', '(', '2', ')', 'With', 'corrupt', 'motives', ',', 'President', 'Trump', '—', 'acting', 'directly', 'agents', 'within', 'outside', 'United', 'States', 'Government', '—', 'conditioned', 'two', 'official', 'acts', 'public', 'announcements', 'requested', '—', '(', 'A', ')', 'release', '$', '391', 'million', 'United', 'States', 'taxpayer', 'funds', 'Congress', 'appropriated', 'bipartisan', 'basis', 'purpose', 'providing', 'vital', 'military', 'security', 'assistance', 'Ukraine', 'oppose', 'Russian', 'aggression', 'President', 'Trump', 'ordered', 'suspended', ';', '(', 'B', ')', 'head', 'state', 'meeting', 'White', 'House', ',', 'President', 'Ukraine', 'sought', 'demonstrate', 'continued', 'United', 'States', 'support', 'Government', 'Ukraine', 'face', 'Russian', 'aggression', '.', '(', '3', ')', 'Faced', 'public', 'revelation', 'actions', ',', 'President', 'Trump', 'ultimately', 'released', 'military', 'security', 'assistance', 'Government', 'Ukraine', ',', 'persisted', 'openly', 'corruptly', 'urging', 'soliciting', 'Ukraine', 'undertake', 'investigations', 'personal', 'political', 'benefit', '.', 'These', 'actions', 'consistent', 'President', 'Trump', '’', 'previous', 'invitations', 'foreign', 'interference', 'United', 'States', 'elections', '.', 'In', ',', 'President', 'Trump', 'abused', 'powers', 'Presidency', 'ignoring', 'injuring', 'national', 'security', 'vital', 'national', 'interests', 'obtain', 'improper', 'personal', 'political', 'benefit', '.', 'He', 'also', 'betrayed', 'Nation', 'abusing', 'high', 'office', 'enlist', 'foreign', 'power', 'corrupting', 'democratic', 'elections', '.', 'Wherefore', 'President', 'Trump', ',', 'conduct', ',', 'demonstrated', 'remain', 'threat', 'national', 'security', 'Constitution', 'allowed', 'remain', 'office', ',', 'acted', 'manner', 'grossly', 'incompatible', 'self-governance', 'rule', 'law', '.', 'President', 'Trump', 'thus', 'warrants', 'impeachment', 'trial', ',', 'removal', 'office', ',', 'disqualification', 'hold', 'enjoy', 'office', 'honor', ',', 'trust', ',', 'profit', 'United', 'States', '.', 'ARTICLE', 'II', ':', 'OBSTRUCTION', 'OF', 'CONGRESS', 'The', 'Constitution', 'provides', 'House', 'Representatives', '“', 'shall', 'sole', 'Power', 'Impeachment', '”', 'President', '“', 'shall', 'removed', 'Office', 'Impeachment', ',', 'Conviction', ',', 'Treason', ',', 'Bribery', ',', 'high', 'Crimes', 'Misdemeanors', '”', '.', 'In', 'conduct', 'office', 'President', 'United', 'States', '—', 'violation', 'constitutional', 'oath', 'faithfully', 'execute', 'office', 'President', 'United', 'States', ',', 'best', 'ability', ',', 'preserve', ',', 'protect', ',', 'defend', 'Constitution', 'United', 'States', ',', 'violation', 'constitutional', 'duty', 'take', 'care', 'laws', 'faithfully', 'executed', '—', 'Donald', 'J.', 'Trump', 'directed', 'unprecedented', ',', 'categorical', ',', 'indiscriminate', 'defiance', 'subpoenas', 'issued', 'House', 'Representatives', 'pursuant', '“', 'sole', 'Power', 'Impeachment', '”', '.', 'President', 'Trump', 'abused', 'powers', 'Presidency', 'manner', 'offensive', ',', 'subversive', ',', 'Constitution', ',', ':', 'The', 'House', 'Representatives', 'engaged', 'impeachment', 'inquiry', 'focused', 'President', 'Trump', '’', 'corrupt', 'solicitation', 'Government', 'Ukraine', 'interfere', '2020', 'United', 'States', 'Presidential', 'election', '.', 'As', 'part', 'impeachment', 'inquiry', ',', 'Committees', 'undertaking', 'investigation', 'served', 'subpoenas', 'seeking', 'documents', 'testimony', 'deemed', 'vital', 'inquiry', 'various', 'Executive', 'Branch', 'agencies', 'offices', ',', 'current', 'former', 'officials', '.', 'In', 'response', ',', 'without', 'lawful', 'cause', 'excuse', ',', 'President', 'Trump', 'directed', 'Executive', 'Branch', 'agencies', ',', 'offices', ',', 'officials', 'comply', 'subpoenas', '.', 'President', 'Trump', 'thus', 'interposed', 'powers', 'Presidency', 'lawful', 'subpoenas', 'House', 'Representatives', ',', 'assumed', 'functions', 'judgments', 'necessary', 'exercise', '“', 'sole', 'Power', 'Impeachment', '”', 'vested', 'Constitution', 'House', 'Representatives', '.', 'President', 'Trump', 'abused', 'powers', 'high', 'office', 'following', 'means', ':', '(', '1', ')', 'Directing', 'White', 'House', 'defy', 'lawful', 'subpoena', 'withholding', 'production', 'documents', 'sought', 'therein', 'Committees', '.', '(', '2', ')', 'Directing', 'Executive', 'Branch', 'agencies', 'offices', 'defy', 'lawful', 'subpoenas', 'withhold', 'production', 'documents', 'records', 'Committees', '—', 'response', 'Department', 'State', ',', 'Office', 'Management', 'Budget', ',', 'Department', 'Energy', ',', 'Department', 'Defense', 'refused', 'produce', 'single', 'document', 'record', '.', '(', '3', ')', 'Directing', 'current', 'former', 'Executive', 'Branch', 'officials', 'cooperate', 'Committees', '—', 'response', 'nine', 'Administration', 'officials', 'defied', 'subpoenas', 'testimony', ',', 'namely', 'John', 'Michael', '“', 'Mick', '”', 'Mulvaney', ',', 'Robert', 'B.', 'Blair', ',', 'John', 'A.', 'Eisenberg', ',', 'Michael', 'Ellis', ',', 'Preston', 'Wells', 'Griffith', ',', 'Russell', 'T.', 'Vought', ',', 'Michael', 'Duffey', ',', 'Brian', 'McCormack', ',', 'T.', 'Ulrich', 'Brechbuhl', '.', 'These', 'actions', 'consistent', 'President', 'Trump', '’', 'previous', 'efforts', 'undermine', 'United', 'States', 'Government', 'investigations', 'foreign', 'interference', 'United', 'States', 'elections', '.', 'Through', 'actions', ',', 'President', 'Trump', 'sought', 'arrogate', 'right', 'determine', 'propriety', ',', 'scope', ',', 'nature', 'impeachment', 'inquiry', 'conduct', ',', 'well', 'unilateral', 'prerogative', 'deny', 'information', 'House', 'Representatives', 'exercise', '“', 'sole', 'Power', 'Impeachment', '”', '.', 'In', 'history', 'Republic', ',', 'President', 'ever', 'ordered', 'complete', 'defiance', 'impeachment', 'inquiry', 'sought', 'obstruct', 'impede', 'comprehensively', 'ability', 'House', 'Representatives', 'investigate', '“', 'high', 'Crimes', 'Misdemeanors', '”', '.', 'This', 'abuse', 'office', 'served', 'cover', 'President', '’', 'repeated', 'misconduct', 'seize', 'control', 'power', 'impeachment', '—', 'thus', 'nullify', 'vital', 'constitutional', 'safeguard', 'vested', 'solely', 'House', 'Representatives', '.', 'In', ',', 'President', 'Trump', 'acted', 'manner', 'contrary', 'trust', 'President', 'subversive', 'constitutional', 'government', ',', 'great', 'prejudice', 'cause', 'law', 'justice', ',', 'manifest', 'injury', 'people', 'United', 'States', '.', 'Wherefore', ',', 'President', 'Trump', ',', 'conduct', ',', 'demonstrated', 'remain', 'threat', 'Constitution', 'allowed', 'remain', 'office', ',', 'acted', 'manner', 'grossly', 'incompatible', 'self-governance', 'rule', 'law', '.', 'President', 'Trump', 'thus', 'warrants', 'impeachment', 'trial', ',', 'removal', 'office', ',', 'disqualification', 'hold', 'enjoy', 'office', 'honor', ',', 'trust', ',', 'profit', 'United', 'States', '.']\n"
     ]
    }
   ],
   "source": [
    "nltk.download(\"punkt\")\n",
    "nltk.download(\"stopwords\")\n",
    "\n",
    "from nltk import word_tokenize\n",
    "from nltk.corpus import stopwords\n",
    "a = set(stopwords.words(\"english\"))\n",
    "input_all = all_input\n",
    "text1 = word_tokenize(input_all)\n",
    "print(text1)\n",
    "stopwords = [x for x in text1 if x not in a]\n",
    "print(stopwords)"
   ]
  },
  {
   "cell_type": "code",
   "execution_count": 4,
   "metadata": {},
   "outputs": [
    {
     "data": {
      "text/plain": [
       "<matplotlib.figure.Figure at 0x28e88d49710>"
      ]
     },
     "metadata": {},
     "output_type": "display_data"
    }
   ],
   "source": [
    "from collections import Counter\n",
    "import numpy as np\n",
    "import matplotlib.pyplot as plt\n",
    "\n",
    "counts = Counter(stopwords)\n",
    "labels, values = zip(*counts.items())\n",
    "indSort = np.argsort(values)[::-1]\n",
    "\n",
    "# rearrange your data\n",
    "labels = np.array(labels)[indSort]\n",
    "values = np.array(values)[indSort]\n",
    "indexes = np.arange(len(labels))\n",
    "bar_width = 2\n",
    "plt.bar(indexes, values)\n",
    "\n",
    "# add labels\n",
    "plt.xticks(indexes + bar_width, labels)\n",
    "\n",
    "\n",
    "plt.show()"
   ]
  },
  {
   "cell_type": "code",
   "execution_count": 5,
   "metadata": {},
   "outputs": [],
   "source": [
    "from nltk import FreqDist\n",
    "fdist = FreqDist(stopwords)"
   ]
  },
  {
   "cell_type": "code",
   "execution_count": 6,
   "metadata": {},
   "outputs": [
    {
     "name": "stdout",
     "output_type": "stream",
     "text": [
      "[(',', 85), ('President', 36), ('.', 32), ('United', 28), ('States', 28), ('Trump', 27), ('—', 15), ('office', 14), ('House', 12), ('Ukraine', 12)]\n"
     ]
    }
   ],
   "source": [
    "fdist1 = fdist.most_common(10)\n",
    "print (fdist1)"
   ]
  },
  {
   "cell_type": "code",
   "execution_count": 7,
   "metadata": {},
   "outputs": [],
   "source": [
    "a,b = list(zip(*fdist1))"
   ]
  },
  {
   "cell_type": "code",
   "execution_count": 8,
   "metadata": {},
   "outputs": [
    {
     "name": "stdout",
     "output_type": "stream",
     "text": [
      "(',', 'President', '.', 'United', 'States', 'Trump', '—', 'office', 'House', 'Ukraine')\n"
     ]
    }
   ],
   "source": [
    "print(a)"
   ]
  },
  {
   "cell_type": "code",
   "execution_count": 9,
   "metadata": {},
   "outputs": [
    {
     "name": "stdout",
     "output_type": "stream",
     "text": [
      "(85, 36, 32, 28, 28, 27, 15, 14, 12, 12)\n"
     ]
    }
   ],
   "source": [
    "print(b)"
   ]
  },
  {
   "cell_type": "code",
   "execution_count": 15,
   "metadata": {},
   "outputs": [
    {
     "data": {
      "text/plain": [
       "<Container object of 10 artists>"
      ]
     },
     "execution_count": 15,
     "metadata": {},
     "output_type": "execute_result"
    },
    {
     "data": {
      "image/png": "[encoded data removed]",
      "text/plain": [
       "<matplotlib.figure.Figure at 0x28e8a8ec4e0>"
      ]
     },
     "metadata": {},
     "output_type": "display_data"
    }
   ],
   "source": [
    "import matplotlib.pyplot as plt\n",
    "plt.bar(a, b)"
   ]
  }
 ],
 "metadata": {
  "kernelspec": {
   "display_name": "Python 3",
   "language": "python",
   "name": "python3"
  },
  "language_info": {
   "codemirror_mode": {
    "name": "ipython",
    "version": 3
   },
   "file_extension": ".py",
   "mimetype": "text/x-python",
   "name": "python",
   "nbconvert_exporter": "python",
   "pygments_lexer": "ipython3",
   "version": "3.6.4"
  }
 },
 "nbformat": 4,
 "nbformat_minor": 2
}
